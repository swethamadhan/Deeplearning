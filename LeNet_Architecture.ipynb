{
  "nbformat": 4,
  "nbformat_minor": 0,
  "metadata": {
    "colab": {
      "provenance": []
    },
    "kernelspec": {
      "name": "python3",
      "display_name": "Python 3"
    },
    "language_info": {
      "name": "python"
    }
  },
  "cells": [
    {
      "cell_type": "code",
      "execution_count": 1,
      "metadata": {
        "id": "LT0s2yh1CQhM"
      },
      "outputs": [],
      "source": [
        "import keras\n",
        "from keras.datasets import mnist\n",
        "from keras.layers import Conv2D, MaxPooling2D\n",
        "from keras.layers import Dense, Flatten\n",
        "from keras.models import Sequential"
      ]
    },
    {
      "cell_type": "code",
      "source": [
        "(x_train, y_train), (x_test, y_test) = mnist.load_data()\n"
      ],
      "metadata": {
        "colab": {
          "base_uri": "https://localhost:8080/"
        },
        "id": "6Gt2bhCYCeqr",
        "outputId": "19c876d0-5bc4-4b11-f94e-7901ed5c5c73"
      },
      "execution_count": 2,
      "outputs": [
        {
          "output_type": "stream",
          "name": "stdout",
          "text": [
            "Downloading data from https://storage.googleapis.com/tensorflow/tf-keras-datasets/mnist.npz\n",
            "11490434/11490434 [==============================] - 0s 0us/step\n"
          ]
        }
      ]
    },
    {
      "cell_type": "code",
      "source": [
        "# Peforming reshaping operation\n",
        "x_train = x_train.reshape(x_train.shape[0], 28, 28, 1)\n",
        "x_test = x_test.reshape(x_test.shape[0], 28, 28, 1)\n",
        "\n",
        "# Normalization\n",
        "x_train = x_train / 255\n",
        "x_test = x_test / 255\n",
        "\n",
        "# One Hot Encoding\n",
        "y_train = keras.utils.to_categorical(y_train, 10)\n",
        "y_test = keras.utils.to_categorical(y_test, 10)"
      ],
      "metadata": {
        "id": "Q1kDpaSWC8Yx"
      },
      "execution_count": 3,
      "outputs": []
    },
    {
      "cell_type": "code",
      "source": [
        "\n",
        "model = Sequential()\n",
        "\n",
        "model.add(Conv2D(6, kernel_size=(5, 5), activation='relu', input_shape=(28, 28, 1)))\n",
        "\n",
        "model.add(MaxPooling2D(pool_size=(2, 2)))\n",
        "\n",
        "model.add(Conv2D(16, kernel_size=(5, 5), activation='relu'))\n",
        "\n",
        "model.add(MaxPooling2D(pool_size=(2, 2)))\n",
        "\n",
        "model.add(Flatten())\n",
        "model.add(Dense(120, activation='relu'))\n",
        "\n",
        "model.add(Dense(84, activation='relu'))\n",
        "\n",
        "model.add(Dense(10, activation='softmax'))"
      ],
      "metadata": {
        "id": "0h_euRA1C8Vc"
      },
      "execution_count": 4,
      "outputs": []
    },
    {
      "cell_type": "code",
      "source": [
        "model.compile(loss=keras.metrics.categorical_crossentropy, optimizer=keras.optimizers.Adam(), metrics=['accuracy'])"
      ],
      "metadata": {
        "id": "w5HfMDUEC8Si"
      },
      "execution_count": 5,
      "outputs": []
    },
    {
      "cell_type": "code",
      "source": [
        "model.fit(x_train, y_train, batch_size=128, epochs=20, verbose=1, validation_data=(x_test, y_test))"
      ],
      "metadata": {
        "colab": {
          "base_uri": "https://localhost:8080/"
        },
        "id": "-tRuoZVRC8Pr",
        "outputId": "f0e33bfe-6276-4448-ebd2-2ca845eb69c8"
      },
      "execution_count": 6,
      "outputs": [
        {
          "output_type": "stream",
          "name": "stdout",
          "text": [
            "Epoch 1/20\n",
            "469/469 [==============================] - 28s 57ms/step - loss: 0.3468 - accuracy: 0.8968 - val_loss: 0.1194 - val_accuracy: 0.9627\n",
            "Epoch 2/20\n",
            "469/469 [==============================] - 28s 59ms/step - loss: 0.0939 - accuracy: 0.9712 - val_loss: 0.0666 - val_accuracy: 0.9787\n",
            "Epoch 3/20\n",
            "469/469 [==============================] - 26s 55ms/step - loss: 0.0667 - accuracy: 0.9794 - val_loss: 0.0492 - val_accuracy: 0.9839\n",
            "Epoch 4/20\n",
            "469/469 [==============================] - 26s 55ms/step - loss: 0.0547 - accuracy: 0.9832 - val_loss: 0.0470 - val_accuracy: 0.9850\n",
            "Epoch 5/20\n",
            "469/469 [==============================] - 26s 56ms/step - loss: 0.0430 - accuracy: 0.9867 - val_loss: 0.0421 - val_accuracy: 0.9866\n",
            "Epoch 6/20\n",
            "469/469 [==============================] - 26s 56ms/step - loss: 0.0383 - accuracy: 0.9877 - val_loss: 0.0423 - val_accuracy: 0.9868\n",
            "Epoch 7/20\n",
            "469/469 [==============================] - 27s 57ms/step - loss: 0.0326 - accuracy: 0.9894 - val_loss: 0.0403 - val_accuracy: 0.9873\n",
            "Epoch 8/20\n",
            "469/469 [==============================] - 27s 58ms/step - loss: 0.0299 - accuracy: 0.9905 - val_loss: 0.0331 - val_accuracy: 0.9896\n",
            "Epoch 9/20\n",
            "469/469 [==============================] - 27s 58ms/step - loss: 0.0250 - accuracy: 0.9920 - val_loss: 0.0377 - val_accuracy: 0.9885\n",
            "Epoch 10/20\n",
            "469/469 [==============================] - 26s 56ms/step - loss: 0.0222 - accuracy: 0.9931 - val_loss: 0.0452 - val_accuracy: 0.9861\n",
            "Epoch 11/20\n",
            "469/469 [==============================] - 26s 56ms/step - loss: 0.0203 - accuracy: 0.9930 - val_loss: 0.0402 - val_accuracy: 0.9874\n",
            "Epoch 12/20\n",
            "469/469 [==============================] - 27s 57ms/step - loss: 0.0174 - accuracy: 0.9944 - val_loss: 0.0463 - val_accuracy: 0.9875\n",
            "Epoch 13/20\n",
            "469/469 [==============================] - 26s 56ms/step - loss: 0.0169 - accuracy: 0.9945 - val_loss: 0.0358 - val_accuracy: 0.9886\n",
            "Epoch 14/20\n",
            "469/469 [==============================] - 27s 57ms/step - loss: 0.0133 - accuracy: 0.9957 - val_loss: 0.0410 - val_accuracy: 0.9885\n",
            "Epoch 15/20\n",
            "469/469 [==============================] - 27s 58ms/step - loss: 0.0141 - accuracy: 0.9953 - val_loss: 0.0441 - val_accuracy: 0.9863\n",
            "Epoch 16/20\n",
            "469/469 [==============================] - 26s 56ms/step - loss: 0.0108 - accuracy: 0.9963 - val_loss: 0.0379 - val_accuracy: 0.9897\n",
            "Epoch 17/20\n",
            "469/469 [==============================] - 26s 56ms/step - loss: 0.0097 - accuracy: 0.9969 - val_loss: 0.0400 - val_accuracy: 0.9882\n",
            "Epoch 18/20\n",
            "469/469 [==============================] - 26s 55ms/step - loss: 0.0102 - accuracy: 0.9964 - val_loss: 0.0472 - val_accuracy: 0.9861\n",
            "Epoch 19/20\n",
            "469/469 [==============================] - 26s 55ms/step - loss: 0.0102 - accuracy: 0.9966 - val_loss: 0.0420 - val_accuracy: 0.9890\n",
            "Epoch 20/20\n",
            "469/469 [==============================] - 26s 55ms/step - loss: 0.0088 - accuracy: 0.9970 - val_loss: 0.0438 - val_accuracy: 0.9881\n"
          ]
        },
        {
          "output_type": "execute_result",
          "data": {
            "text/plain": [
              "<keras.callbacks.History at 0x7fcac5a678b0>"
            ]
          },
          "metadata": {},
          "execution_count": 6
        }
      ]
    },
    {
      "cell_type": "code",
      "source": [
        "score = model.evaluate(x_test, y_test)\n",
        "print('Test Loss:', score[0])\n",
        "print('Test accuracy:', score[1])"
      ],
      "metadata": {
        "colab": {
          "base_uri": "https://localhost:8080/"
        },
        "id": "RV_kIsmdC8M1",
        "outputId": "a3dd2eb3-643e-419f-dcc1-80328b204287"
      },
      "execution_count": 7,
      "outputs": [
        {
          "output_type": "stream",
          "name": "stdout",
          "text": [
            "313/313 [==============================] - 3s 8ms/step - loss: 0.0438 - accuracy: 0.9881\n",
            "Test Loss: 0.04379158839583397\n",
            "Test accuracy: 0.988099992275238\n"
          ]
        }
      ]
    }
  ]
}