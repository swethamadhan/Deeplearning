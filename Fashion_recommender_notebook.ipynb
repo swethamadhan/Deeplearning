{
  "cells": [
    {
      "cell_type": "code",
      "execution_count": 3,
      "metadata": {
        "id": "eHqThbHQHmO_"
      },
      "outputs": [],
      "source": [
        "import tensorflow as tf\n",
        "from tensorflow import keras\n",
        "from tensorflow.keras import layers\n"
      ]
    },
    {
      "cell_type": "code",
      "execution_count": 4,
      "metadata": {
        "id": "wtUfma-QHmPC"
      },
      "outputs": [],
      "source": [
        "model = keras.Sequential()\n",
        "model.add(layers.Conv2D(32, (3, 3), activation='relu', input_shape=(28, 28, 1)))\n",
        "model.add(layers.MaxPooling2D((2, 2)))\n",
        "model.add(layers.Conv2D(64, (3, 3), activation='relu'))\n",
        "model.add(layers.MaxPooling2D((2, 2)))\n",
        "model.add(layers.Flatten())\n",
        "model.add(layers.Dense(64, activation='relu'))\n",
        "model.add(layers.Dense(10, activation='softmax'))"
      ]
    },
    {
      "cell_type": "code",
      "source": [
        "# Compile the model\n",
        "model.compile(optimizer='adam',\n",
        "              loss='sparse_categorical_crossentropy',\n",
        "              metrics=['accuracy'])\n"
      ],
      "metadata": {
        "id": "TMyUwOUxJoIV"
      },
      "execution_count": 5,
      "outputs": []
    },
    {
      "cell_type": "code",
      "execution_count": 6,
      "metadata": {
        "id": "FhmbO002HmPJ",
        "colab": {
          "base_uri": "https://localhost:8080/"
        },
        "outputId": "2ca1255a-d29b-413a-8a0d-ab01a2fe6261"
      },
      "outputs": [
        {
          "output_type": "stream",
          "name": "stdout",
          "text": [
            "Downloading data from https://storage.googleapis.com/tensorflow/tf-keras-datasets/train-labels-idx1-ubyte.gz\n",
            "29515/29515 [==============================] - 0s 0us/step\n",
            "Downloading data from https://storage.googleapis.com/tensorflow/tf-keras-datasets/train-images-idx3-ubyte.gz\n",
            "26421880/26421880 [==============================] - 0s 0us/step\n",
            "Downloading data from https://storage.googleapis.com/tensorflow/tf-keras-datasets/t10k-labels-idx1-ubyte.gz\n",
            "5148/5148 [==============================] - 0s 0us/step\n",
            "Downloading data from https://storage.googleapis.com/tensorflow/tf-keras-datasets/t10k-images-idx3-ubyte.gz\n",
            "4422102/4422102 [==============================] - 0s 0us/step\n",
            "Epoch 1/10\n",
            "938/938 [==============================] - 57s 60ms/step - loss: 0.7152 - accuracy: 0.8077\n",
            "Epoch 2/10\n",
            "938/938 [==============================] - 55s 59ms/step - loss: 0.3439 - accuracy: 0.8751\n",
            "Epoch 3/10\n",
            "938/938 [==============================] - 55s 59ms/step - loss: 0.3039 - accuracy: 0.8892\n",
            "Epoch 4/10\n",
            "938/938 [==============================] - 58s 62ms/step - loss: 0.2748 - accuracy: 0.8990\n",
            "Epoch 5/10\n",
            "938/938 [==============================] - 55s 58ms/step - loss: 0.2599 - accuracy: 0.9045\n",
            "Epoch 6/10\n",
            "938/938 [==============================] - 54s 58ms/step - loss: 0.2389 - accuracy: 0.9121\n",
            "Epoch 7/10\n",
            "938/938 [==============================] - 54s 57ms/step - loss: 0.2264 - accuracy: 0.9157\n",
            "Epoch 8/10\n",
            "938/938 [==============================] - 54s 57ms/step - loss: 0.2122 - accuracy: 0.9209\n",
            "Epoch 9/10\n",
            "938/938 [==============================] - 57s 60ms/step - loss: 0.2024 - accuracy: 0.9235\n",
            "Epoch 10/10\n",
            "938/938 [==============================] - 55s 59ms/step - loss: 0.1905 - accuracy: 0.9276\n"
          ]
        },
        {
          "output_type": "execute_result",
          "data": {
            "text/plain": [
              "<keras.callbacks.History at 0x7f3357e455b0>"
            ]
          },
          "metadata": {},
          "execution_count": 6
        }
      ],
      "source": [
        "\n",
        "# Train the model on the fashion dataset\n",
        "(x_train, y_train), (x_test, y_test) = keras.datasets.fashion_mnist.load_data()\n",
        "x_train = x_train.reshape(-1, 28, 28, 1)\n",
        "x_test = x_test.reshape(-1, 28, 28, 1)\n",
        "model.fit(x_train, y_train, epochs=10, batch_size=64)"
      ]
    },
    {
      "cell_type": "code",
      "execution_count": 7,
      "metadata": {
        "id": "D8mC6F2lHmPK",
        "colab": {
          "base_uri": "https://localhost:8080/"
        },
        "outputId": "2b3db9f6-f60d-4ec3-9e1e-8415d2590d81"
      },
      "outputs": [
        {
          "output_type": "stream",
          "name": "stdout",
          "text": [
            "313/313 [==============================] - 5s 14ms/step - loss: 0.3144 - accuracy: 0.8932\n",
            "Test accuracy: 0.8931999802589417\n"
          ]
        }
      ],
      "source": [
        "# Evaluate the model on the test set\n",
        "test_loss, test_acc = model.evaluate(x_test, y_test)\n",
        "print('Test accuracy:', test_acc)\n"
      ]
    }
  ],
  "metadata": {
    "colab": {
      "provenance": []
    },
    "kernelspec": {
      "display_name": "Python 3",
      "language": "python",
      "name": "python3"
    },
    "language_info": {
      "codemirror_mode": {
        "name": "ipython",
        "version": 3
      },
      "file_extension": ".py",
      "mimetype": "text/x-python",
      "name": "python",
      "nbconvert_exporter": "python",
      "pygments_lexer": "ipython3",
      "version": "3.8.8"
    }
  },
  "nbformat": 4,
  "nbformat_minor": 0
}